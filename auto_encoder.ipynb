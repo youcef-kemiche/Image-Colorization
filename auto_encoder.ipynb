{
  "nbformat": 4,
  "nbformat_minor": 0,
  "metadata": {
    "colab": {
      "name": "Soutenance.ipynb",
      "private_outputs": true,
      "provenance": [],
      "collapsed_sections": []
    },
    "kernelspec": {
      "name": "python3",
      "display_name": "Python 3"
    },
    "accelerator": "GPU"
  },
  "cells": [
    {
      "cell_type": "markdown",
      "metadata": {
        "id": "_0lPFEPE54ya"
      },
      "source": [
        "# Import"
      ]
    },
    {
      "cell_type": "code",
      "metadata": {
        "id": "5e6OEXuGqyL1"
      },
      "source": [
        "#IMPORTATION DES LIBRAIRIES\n",
        "from keras.layers import Conv2D,UpSampling2D\n",
        "import keras\n",
        "from keras import layers\n",
        "import cv2\n",
        "import zipfile\n",
        "import math\n",
        "from keras.layers import MaxPooling2D,Dropout\n",
        "from keras.layers import InputLayer,Input,RepeatVector,Reshape,concatenate\n",
        "\n",
        "from keras.models import Sequential,Model\n",
        "from keras.preprocessing.image import ImageDataGenerator,img_to_array,load_img\n",
        "from skimage.color import rgb2lab,lab2rgb\n",
        "from keras.datasets import cifar100\n",
        "from skimage.transform import resize\n",
        "import numpy as np\n",
        "import tensorflow as tf\n",
        "import matplotlib.pyplot as plt\n",
        "from matplotlib.pyplot import imshow\n",
        "from tqdm import tqdm\n",
        "from google.colab import drive\n",
        "import os\n",
        "from pathlib import Path\n",
        "from keras.callbacks import EarlyStopping, ModelCheckpoint, ReduceLROnPlateau\n",
        "import random\n",
        "import pandas as pd\n"
      ],
      "execution_count": null,
      "outputs": []
    },
    {
      "cell_type": "code",
      "metadata": {
        "id": "75eDqERoyZeo"
      },
      "source": [
        "#CONNECTION AU DRIVE \n",
        "drive.mount('/content/drive')\n",
        "os.chdir(\"/content/drive/MyDrive\")"
      ],
      "execution_count": null,
      "outputs": []
    },
    {
      "cell_type": "code",
      "metadata": {
        "id": "I8kOs3MzybZ2"
      },
      "source": [
        "# zip = zipfile.ZipFile('some_images.zip')\n",
        "# zip.extractall()"
      ],
      "execution_count": null,
      "outputs": []
    },
    {
      "cell_type": "markdown",
      "metadata": {
        "id": "iwuEVs3A6Cgc"
      },
      "source": [
        "# Model"
      ]
    },
    {
      "cell_type": "code",
      "metadata": {
        "id": "wKM9h6zPvmkG"
      },
      "source": [
        "IMG_SIZE = 256\n",
        "N_EPOCHS = 30\n",
        "BATCH_SIZE = 32\n",
        "latent_dim = 256"
      ],
      "execution_count": null,
      "outputs": []
    },
    {
      "cell_type": "code",
      "metadata": {
        "id": "2U_WGy-Gx4te"
      },
      "source": [
        "#DATA GENERATOR\n",
        "train_datagen = ImageDataGenerator(rescale = 1./255,\n",
        "                                   horizontal_flip = True)\n",
        "\n",
        "train_set = train_datagen.flow_from_directory('/content/drive/MyDrive/melange/tr',\n",
        "                                              target_size = (IMG_SIZE, IMG_SIZE),\n",
        "                                              batch_size = BATCH_SIZE)\n",
        "\n",
        "valid_datagen = ImageDataGenerator(rescale = 1./255)\n",
        "\n",
        "valid_set = valid_datagen.flow_from_directory('/content/drive/MyDrive/melange/vl',\n",
        "                                              target_size = (IMG_SIZE, IMG_SIZE),\n",
        "                                              batch_size = BATCH_SIZE)\n",
        "\n",
        "\n",
        "\n",
        "def gen_ab_images(train_set):\n",
        "    for batch in train_set:\n",
        "        lab_batch = rgb2lab(batch[0])\n",
        "        X_batch = lab_batch[:,:,:,0] \n",
        "        Y_batch = lab_batch[:,:,:,1:] / 128\n",
        "        yield (X_batch.reshape(X_batch.shape+(1,)), Y_batch)"
      ],
      "execution_count": null,
      "outputs": []
    },
    {
      "cell_type": "code",
      "metadata": {
        "id": "bZzplGXyx4wS"
      },
      "source": [
        "#MODEL\n",
        "model = Sequential()\n",
        "\n",
        "model.add(Conv2D(64, (3, 3), activation='relu', padding='same', strides=2, input_shape=(256, 256, 1)))\n",
        "\n",
        "model.add(Conv2D(128, (3, 3), activation='relu', padding='same'))\n",
        "\n",
        "model.add(Conv2D(128, (3,3), activation='relu', padding='same', strides=2))\n",
        "\n",
        "model.add(Conv2D(256, (3,3), activation='relu', padding='same'))\n",
        "\n",
        "model.add(Conv2D(256, (3,3), activation='relu', padding='same', strides=2))\n",
        "\n",
        "model.add(Conv2D(512, (3,3), activation='relu', padding='same'))\n",
        "\n",
        "model.add(Conv2D(512, (3,3), activation='relu', padding='same'))\n",
        "\n",
        "model.add(Conv2D(256, (3,3), activation='relu', padding='same'))\n",
        "\n",
        "model.add(Conv2D(128, (3,3), activation='relu', padding='same'))\n",
        "\n",
        "model.add(UpSampling2D((2, 2)))\n",
        "# model.add(Dropout(0.2))\n",
        "\n",
        "\n",
        "model.add(Conv2D(64, (3,3), activation='relu', padding='same'))\n",
        "\n",
        "model.add(UpSampling2D((2, 2)))\n",
        "# model.add(Dropout(0.2))\n",
        "\n",
        "\n",
        "model.add(Conv2D(32, (3,3), activation='relu', padding='same'))\n",
        "model.add(UpSampling2D((2, 2)))\n",
        "# model.add(Dropout(0.2))\n",
        "\n",
        "model.add(Conv2D(16, (3,3), activation='relu', padding='same'))\n",
        "# model.add(Dropout(0.2))\n",
        "\n",
        "model.add(Conv2D(2, (3, 3), activation='tanh', padding='same'))\n",
        "\n",
        "# model.add(UpSampling2D((2, 2)))\n",
        "\n"
      ],
      "execution_count": null,
      "outputs": []
    },
    {
      "cell_type": "code",
      "metadata": {
        "id": "-m8fLfIYx4zO"
      },
      "source": [
        "opt=keras.optimizers.Adam(learning_rate= 8e-5)\n",
        "\n",
        "\n",
        "model.compile(optimizer=opt, loss='mse' , metrics=['accuracy'])\n",
        "model.summary()"
      ],
      "execution_count": null,
      "outputs": []
    },
    {
      "cell_type": "code",
      "metadata": {
        "id": "pDPRmF5Rx42T"
      },
      "source": [
        "filepath = \"soutenance.model\"\n",
        "checkpoint = ModelCheckpoint(filepath,\n",
        "                             save_best_only=True,\n",
        "                             monitor='loss',\n",
        "                             mode='min')"
      ],
      "execution_count": null,
      "outputs": []
    },
    {
      "cell_type": "code",
      "metadata": {
        "id": "kiYu6PrSuph_"
      },
      "source": [
        "valeurs=model.fit(x=gen_ab_images(train_set), \n",
        "          callbacks=[checkpoint], \n",
        "          epochs=N_EPOCHS, \n",
        "          validation_data=gen_ab_images(valid_set), \n",
        "          steps_per_epoch=len(train_set),\n",
        "          validation_steps=len(valid_set),\n",
        "          shuffle=True)"
      ],
      "execution_count": null,
      "outputs": []
    },
    {
      "cell_type": "code",
      "metadata": {
        "id": "rTb7GnV0A_yz"
      },
      "source": [
        "model.save(\"soutenance.model\")"
      ],
      "execution_count": null,
      "outputs": []
    },
    {
      "cell_type": "markdown",
      "metadata": {
        "id": "M-AJZyDI6JDX"
      },
      "source": [
        "# Test"
      ]
    },
    {
      "cell_type": "code",
      "metadata": {
        "id": "hNIx8hx9A_1H"
      },
      "source": [
        "# display the history values \n",
        "\n",
        "plt.plot(valeurs.history['accuracy'])\n",
        "plt.plot(valeurs.history['val_accuracy'])\n",
        "plt.title('model accuracy')\n",
        "plt.ylabel('accuracy')\n",
        "plt.xlabel('epoch')\n",
        "plt.legend(['train', 'test'], loc='upper left')\n",
        "plt.show()\n",
        "\n",
        "# afficher l'historique des valeurs de Loss\n",
        "\n",
        "plt.plot(valeurs.history['loss'])\n",
        "plt.plot(valeurs.history['val_loss'])\n",
        "plt.title('loss')\n",
        "plt.ylabel('loss')\n",
        "plt.xlabel('epoch')\n",
        "plt.legend(['train', 'test'], loc='upper left')\n",
        "plt.show()"
      ],
      "execution_count": null,
      "outputs": []
    },
    {
      "cell_type": "code",
      "metadata": {
        "id": "oX4uTMOXsveS"
      },
      "source": [
        "\n",
        "\n",
        "model=keras.models.load_model(\"soutenance.model\",\n",
        "                        custom_objects=None,\n",
        "                        compile=True)"
      ],
      "execution_count": null,
      "outputs": []
    },
    {
      "cell_type": "code",
      "metadata": {
        "id": "Kgf6KFcFhXBf"
      },
      "source": [
        "test_data_gen = ImageDataGenerator(rescale = 1./255)\n",
        "\n",
        "test_set = test_data_gen.flow_from_directory('/content/drive/MyDrive/testing',\n",
        "                                              target_size = (IMG_SIZE, IMG_SIZE),\n",
        "                                              batch_size = 1000)"
      ],
      "execution_count": null,
      "outputs": []
    },
    {
      "cell_type": "code",
      "metadata": {
        "id": "x9L7uCuTiE-j"
      },
      "source": [
        "\n",
        "def transformer_en_lab(data):\n",
        "  X=[]\n",
        "  Y=[]\n",
        "\n",
        "  for img in tqdm(data[0]):\n",
        "    try:\n",
        "      lab=rgb2lab(img)\n",
        "      X.append(lab[:,:,0])\n",
        "      \n",
        "      Y.append(lab[:,:,1:]/128)\n",
        "\n",
        "    except:\n",
        "      pass\n",
        "  X=np.array(X)  \n",
        "  X=X.reshape(X.shape+(1,))  \n",
        "  Y=np.array(Y)\n",
        "\n",
        "  return X,Y\n",
        "  \n",
        "X_test=[]\n",
        "Y_test=[]\n",
        "\n",
        "\n",
        "X_test,Y_test=transformer_en_lab(test_set[0])\n"
      ],
      "execution_count": null,
      "outputs": []
    },
    {
      "cell_type": "code",
      "metadata": {
        "id": "EM4O3ESK9cks"
      },
      "source": [
        "X_test.shape"
      ],
      "execution_count": null,
      "outputs": []
    },
    {
      "cell_type": "code",
      "metadata": {
        "id": "ap4_RN-Hg08u"
      },
      "source": [
        "\n",
        "# Evaluate the model on the test data using `evaluate`\n",
        "print(\"Evaluate on test data\")\n",
        "results = model.evaluate(X_test,Y_test)\n",
        "print(\"test loss, test acc:\", results)\n",
        "\n"
      ],
      "execution_count": null,
      "outputs": []
    },
    {
      "cell_type": "code",
      "metadata": {
        "id": "1Qnn1nH6dErw"
      },
      "source": [
        "output = model.predict(X_test)\n",
        "output = output * 128"
      ],
      "execution_count": null,
      "outputs": []
    },
    {
      "cell_type": "code",
      "metadata": {
        "id": "WKmyqHdJg1r-"
      },
      "source": [
        "\n",
        "random_indices = [random.randint(0, 13) for i in range(9)]\n",
        "\n",
        "plt.figure(figsize=(10,10))\n",
        "\n",
        "for i, index in enumerate(random_indices):  \n",
        "    image = np.zeros((256, 256, 3))\n",
        "    image[:,:,0] = X_test[index][:,:,0]\n",
        "    image[:,:,1:] = output[index]\n",
        "    rgb=lab2rgb(image)\n",
        "\n",
        "    plt.subplot(3,3,i+1)\n",
        "    plt.imshow(rgb)\n",
        "    # plt.title(f\"Predicted: {pred}, \\n Class: {actual}\")\n",
        "    plt.tight_layout()"
      ],
      "execution_count": null,
      "outputs": []
    }
  ]
}